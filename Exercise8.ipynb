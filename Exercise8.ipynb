{
 "cells": [
  {
   "cell_type": "code",
   "execution_count": 11,
   "id": "0497a289-a564-470a-ac37-1226f331656a",
   "metadata": {},
   "outputs": [
    {
     "name": "stdout",
     "output_type": "stream",
     "text": [
      "['mango', 'kiwi', 'orange', 'banana', 'plums']\n"
     ]
    }
   ],
   "source": [
    "# Exercise 8: List Manipulation\n",
    "\n",
    "fruits = ['mango','apple','kiwi','orange','banana']\n",
    "fruits.append('plums') # add the element in last i.e banana\n",
    "fruits.pop(1) # removes the second element index[1] i.e apple\n",
    "print(fruits)"
   ]
  },
  {
   "cell_type": "code",
   "execution_count": null,
   "id": "d8760a4f-e20b-4189-a429-ab63e18e0f4e",
   "metadata": {},
   "outputs": [],
   "source": []
  }
 ],
 "metadata": {
  "kernelspec": {
   "display_name": "Python 3 (ipykernel)",
   "language": "python",
   "name": "python3"
  },
  "language_info": {
   "codemirror_mode": {
    "name": "ipython",
    "version": 3
   },
   "file_extension": ".py",
   "mimetype": "text/x-python",
   "name": "python",
   "nbconvert_exporter": "python",
   "pygments_lexer": "ipython3",
   "version": "3.12.4"
  }
 },
 "nbformat": 4,
 "nbformat_minor": 5
}
