{
 "cells": [
  {
   "cell_type": "code",
   "execution_count": 1,
   "id": "7937488a-67de-47ca-879b-aecfb62f5027",
   "metadata": {},
   "outputs": [
    {
     "name": "stdin",
     "output_type": "stream",
     "text": [
      "Enter a sentence :  my name is priyanka and I'm MCA student\n",
      "Enter a word :  MCA\n"
     ]
    },
    {
     "name": "stdout",
     "output_type": "stream",
     "text": [
      "The word MCA  exists in the sentence at index :  28\n"
     ]
    }
   ],
   "source": [
    "# Exercise 6: Substring Search\n",
    "\n",
    "# Asks user to enter a sentence\n",
    "sentence = input(\"Enter a sentence : \")\n",
    "\n",
    "# Asks user to enter a word\n",
    "word = input(\"Enter a word : \")\n",
    "\n",
    "# checks if the word entered by the user is available in the sentence entered by the user.\n",
    "if word in sentence:\n",
    "    index = sentence.find(word)\n",
    "    print(\"The word\",word,\" exists in the sentence at index : \",index)\n",
    "else:\n",
    "    print(\"The word\",word, \" does not exists in sentence\")\n"
   ]
  },
  {
   "cell_type": "code",
   "execution_count": null,
   "id": "5a03446f-01cf-4a3b-8d81-4ea0f806d4de",
   "metadata": {},
   "outputs": [],
   "source": []
  }
 ],
 "metadata": {
  "kernelspec": {
   "display_name": "Python 3 (ipykernel)",
   "language": "python",
   "name": "python3"
  },
  "language_info": {
   "codemirror_mode": {
    "name": "ipython",
    "version": 3
   },
   "file_extension": ".py",
   "mimetype": "text/x-python",
   "name": "python",
   "nbconvert_exporter": "python",
   "pygments_lexer": "ipython3",
   "version": "3.12.4"
  }
 },
 "nbformat": 4,
 "nbformat_minor": 5
}
