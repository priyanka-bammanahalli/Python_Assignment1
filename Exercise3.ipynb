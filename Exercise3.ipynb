{
 "cells": [
  {
   "cell_type": "code",
   "execution_count": 3,
   "id": "1ffcdf31-ec6a-400a-bbdd-0c0113e7089e",
   "metadata": {},
   "outputs": [
    {
     "name": "stdin",
     "output_type": "stream",
     "text": [
      "Enter First boolean value :  f\n"
     ]
    },
    {
     "name": "stdout",
     "output_type": "stream",
     "text": [
      "Invalid input. Please enter (True/False)\n"
     ]
    },
    {
     "name": "stdin",
     "output_type": "stream",
     "text": [
      "Enter First boolean value :  True\n",
      "Enter Second boolean value :  False\n",
      "Enter Thrid boolean value :  True\n"
     ]
    },
    {
     "name": "stdout",
     "output_type": "stream",
     "text": [
      "AND Solution :  False\n",
      "OR Solution :  True\n",
      "NOT Solution :  True\n"
     ]
    }
   ],
   "source": [
    "# Exercise 3: Logical Operators\n",
    "\n",
    "while True: # Continuously prompts the user for a boolean value until a valid input is provided\n",
    "    bool1_input = input(\"Enter First boolean value : \")\n",
    "    if bool1_input == 'True':\n",
    "        bool1 = True\n",
    "        break\n",
    "    elif bool1_input == 'False':\n",
    "        bool1 = False\n",
    "        break\n",
    "    else:\n",
    "        print(\"Invalid input. Please enter (True/False)\")\n",
    "\n",
    "while True:\n",
    "    bool2_input = input(\"Enter Second boolean value : \")\n",
    "    if bool2_input == 'True':\n",
    "        bool2 = True\n",
    "        break\n",
    "    elif bool2_input == 'False':\n",
    "        bool2 = False\n",
    "        break\n",
    "    else:\n",
    "        print(\"Invalid input. Please enter (True/False)\")\n",
    "\n",
    "while True:\n",
    "    bool3_input = input(\"Enter Thrid boolean value : \")\n",
    "    if bool3_input == 'True':\n",
    "        bool3 = True\n",
    "        break\n",
    "    elif bool3_input == 'False':\n",
    "        bool3 = False\n",
    "        break\n",
    "    else:\n",
    "        print(\"Invalid input. Please enter (True/False)\")\n",
    "\n",
    "and_res = bool1 and bool2 and bool3\n",
    "or_res = bool1 or bool2 or bool3\n",
    "not_res = not and_res\n",
    "\n",
    "print(\"AND Solution : \",and_res)\n",
    "print(\"OR Solution : \",or_res)\n",
    "print(\"NOT Solution : \",not_res)"
   ]
  },
  {
   "cell_type": "code",
   "execution_count": null,
   "id": "c8d1b542-922f-4020-8e77-c2018d19c4d2",
   "metadata": {},
   "outputs": [],
   "source": []
  }
 ],
 "metadata": {
  "kernelspec": {
   "display_name": "Python 3 (ipykernel)",
   "language": "python",
   "name": "python3"
  },
  "language_info": {
   "codemirror_mode": {
    "name": "ipython",
    "version": 3
   },
   "file_extension": ".py",
   "mimetype": "text/x-python",
   "name": "python",
   "nbconvert_exporter": "python",
   "pygments_lexer": "ipython3",
   "version": "3.12.4"
  }
 },
 "nbformat": 4,
 "nbformat_minor": 5
}
