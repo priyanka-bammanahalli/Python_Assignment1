{
 "cells": [
  {
   "cell_type": "code",
   "execution_count": 21,
   "id": "795e0edc-7908-463a-844e-28bb81f7e9f9",
   "metadata": {},
   "outputs": [
    {
     "name": "stdout",
     "output_type": "stream",
     "text": [
      "[1, 2, 3, 4, 5, 6, 7, 8, 9, 10]\n",
      "The First 5 Elements from the list :  [1, 2, 3, 4, 5]\n",
      "The last 5 Elements from the list :  [6, 7, 8, 9, 10]\n",
      "The Elements from index 2 to index 7 :  [3, 4, 5, 6, 7, 8]\n"
     ]
    }
   ],
   "source": [
    "# Exercise 10: List Slicing\n",
    "\n",
    "numbers = [1,2,3,4,5,6,7,8,9,10]\n",
    "print(numbers)\n",
    "print(\"The First 5 Elements from the list : \",numbers[:5])\n",
    "print(\"The last 5 Elements from the list : \",numbers[-5:])\n",
    "print(\"The Elements from index 2 to index 7 : \",numbers[2:8])"
   ]
  },
  {
   "cell_type": "code",
   "execution_count": null,
   "id": "0a2aac8c-b3cc-4e60-8aaa-f09cd4ac2f3e",
   "metadata": {},
   "outputs": [],
   "source": []
  }
 ],
 "metadata": {
  "kernelspec": {
   "display_name": "Python 3 (ipykernel)",
   "language": "python",
   "name": "python3"
  },
  "language_info": {
   "codemirror_mode": {
    "name": "ipython",
    "version": 3
   },
   "file_extension": ".py",
   "mimetype": "text/x-python",
   "name": "python",
   "nbconvert_exporter": "python",
   "pygments_lexer": "ipython3",
   "version": "3.12.4"
  }
 },
 "nbformat": 4,
 "nbformat_minor": 5
}
