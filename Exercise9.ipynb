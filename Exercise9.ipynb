{
 "cells": [
  {
   "cell_type": "code",
   "execution_count": 19,
   "id": "58477f9d-7af7-4cb9-8ccc-42f22d61023f",
   "metadata": {},
   "outputs": [
    {
     "name": "stdin",
     "output_type": "stream",
     "text": [
      "Enter 1 number 3\n",
      "Enter 2 number 6\n",
      "Enter 3 number 8\n",
      "Enter 4 number 9\n",
      "Enter 5 number 5\n"
     ]
    },
    {
     "name": "stdout",
     "output_type": "stream",
     "text": [
      "The ascending order:  [3, 5, 6, 8, 9]\n",
      "The Desending order:  [9, 8, 6, 5, 3]\n"
     ]
    }
   ],
   "source": [
    "# Exercise 9: Sorting a List\n",
    "\n",
    "number=[]\n",
    "\n",
    "for i in range(5):\n",
    "    num = int(input(f\"Enter {i+1} number\"))\n",
    "    number.append(num)\n",
    "\n",
    "number.sort() # sort the number in ascending order\n",
    "print(\"The ascending order: \",number)\n",
    "number.sort(reverse = True) # sort the number in descending order\n",
    "print(\"The Desending order: \",number)"
   ]
  },
  {
   "cell_type": "code",
   "execution_count": null,
   "id": "34e8652e-7844-41fe-b143-f656539ea261",
   "metadata": {},
   "outputs": [],
   "source": []
  }
 ],
 "metadata": {
  "kernelspec": {
   "display_name": "Python 3 (ipykernel)",
   "language": "python",
   "name": "python3"
  },
  "language_info": {
   "codemirror_mode": {
    "name": "ipython",
    "version": 3
   },
   "file_extension": ".py",
   "mimetype": "text/x-python",
   "name": "python",
   "nbconvert_exporter": "python",
   "pygments_lexer": "ipython3",
   "version": "3.12.4"
  }
 },
 "nbformat": 4,
 "nbformat_minor": 5
}
