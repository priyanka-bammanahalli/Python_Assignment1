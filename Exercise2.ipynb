{
 "cells": [
  {
   "cell_type": "code",
   "execution_count": 23,
   "id": "67c06929-a4de-4fd6-85a1-3686d0366fba",
   "metadata": {},
   "outputs": [
    {
     "name": "stdin",
     "output_type": "stream",
     "text": [
      "Enter First Number:  98\n",
      "Enter Second Number:  54\n"
     ]
    },
    {
     "name": "stdout",
     "output_type": "stream",
     "text": [
      "First number is greater than second number\n"
     ]
    }
   ],
   "source": [
    "# Exercise 2: Comparison Operators\n",
    "\n",
    "# Ask the user to input two numbers\n",
    "num1 = int(input(\"Enter First Number: \"))\n",
    "num2 = int(input(\"Enter Second Number: \"))\n",
    "\n",
    "# Checks if First number is greater than second number\n",
    "if num1 > num2:\n",
    "    print(\"First number is greater than second number\")\n",
    "\n",
    "# Checks if First number is equal to the second number\n",
    "elif num1 == num2:\n",
    "    print(\"First number is equal to the second number\")\n",
    "\n",
    "# checks if First number is less than or equal to second number\n",
    "else:\n",
    "     print(\"First number is less than or equal to second number\")"
   ]
  },
  {
   "cell_type": "code",
   "execution_count": null,
   "id": "8e04ff45-7dbc-4397-b68a-94378a280690",
   "metadata": {},
   "outputs": [],
   "source": []
  }
 ],
 "metadata": {
  "kernelspec": {
   "display_name": "Python 3 (ipykernel)",
   "language": "python",
   "name": "python3"
  },
  "language_info": {
   "codemirror_mode": {
    "name": "ipython",
    "version": 3
   },
   "file_extension": ".py",
   "mimetype": "text/x-python",
   "name": "python",
   "nbconvert_exporter": "python",
   "pygments_lexer": "ipython3",
   "version": "3.12.4"
  }
 },
 "nbformat": 4,
 "nbformat_minor": 5
}
