{
 "cells": [
  {
   "cell_type": "code",
   "execution_count": 17,
   "id": "fc409e7c-2d6f-4e09-8ace-c28a95ee2cad",
   "metadata": {},
   "outputs": [
    {
     "name": "stdin",
     "output_type": "stream",
     "text": [
      "Enter First Number:  10\n",
      "Enter First Number:  3\n"
     ]
    },
    {
     "name": "stdout",
     "output_type": "stream",
     "text": [
      "Addition :  13\n",
      "Subtraction :  7\n",
      "Multiplication :  30\n",
      "Division :  3.33\n",
      "Modulus :  1\n",
      "Exponentiation :  1000\n",
      "Floor Division :  3\n"
     ]
    }
   ],
   "source": [
    "# Part 1: Operators\n",
    "# Exercise 1: Arithmetic Operators\n",
    "\n",
    "# num1 as first integer and num2 as second integer for user input\n",
    "num1 = int(input(\"Enter First Number: \"))\n",
    "num2 = int(input(\"Enter First Number: \"))\n",
    "\n",
    "# Display the result num1 + num2\n",
    "print(\"Addition : \",num1+num2) \n",
    "\n",
    "# Display the result num1 - num2\n",
    "print(\"Subtraction : \",num1-num2) \n",
    "\n",
    "# Display the result num1 * num2\n",
    "print(\"Multiplication : \",num1*num2) \n",
    "\n",
    "# Displays the result num1 / num2 , rounded to 2 decimal places\n",
    "print(\"Division : \", round(num1/num2, 2)) \n",
    "\n",
    "# Prints the remainder of num1 divided by num2\n",
    "print(\"Modulus : \",num1%num2) \n",
    "\n",
    "# Prints the result of num1 raised to the power of num2\n",
    "print(\"Exponentiation : \",num1**num2) \n",
    "\n",
    "# Prints the result of num1 divided by num2, rounded down to the nearest whole number\n",
    "print(\"Floor Division : \",num1//num2)  "
   ]
  },
  {
   "cell_type": "code",
   "execution_count": null,
   "id": "99d77c2b-4c47-4ee1-a87c-e9099a5a3859",
   "metadata": {},
   "outputs": [],
   "source": []
  }
 ],
 "metadata": {
  "kernelspec": {
   "display_name": "Python 3 (ipykernel)",
   "language": "python",
   "name": "python3"
  },
  "language_info": {
   "codemirror_mode": {
    "name": "ipython",
    "version": 3
   },
   "file_extension": ".py",
   "mimetype": "text/x-python",
   "name": "python",
   "nbconvert_exporter": "python",
   "pygments_lexer": "ipython3",
   "version": "3.12.4"
  }
 },
 "nbformat": 4,
 "nbformat_minor": 5
}
