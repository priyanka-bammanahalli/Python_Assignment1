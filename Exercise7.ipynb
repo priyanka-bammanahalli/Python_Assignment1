{
 "cells": [
  {
   "cell_type": "code",
   "execution_count": 24,
   "id": "3580d940-c91d-492f-ba0f-718cfb1155cb",
   "metadata": {},
   "outputs": [
    {
     "name": "stdout",
     "output_type": "stream",
     "text": [
      "Enter 5 number: \n"
     ]
    },
    {
     "name": "stdin",
     "output_type": "stream",
     "text": [
      "Enter number 1:  2\n",
      "Enter number 2:  4\n",
      "Enter number 3:  5\n",
      "Enter number 4:  6\n",
      "Enter number 5:  1\n"
     ]
    },
    {
     "name": "stdout",
     "output_type": "stream",
     "text": [
      "The total Sum of lists is :  18\n",
      "Largest Number is : 6\n",
      "Smallest Number is :  1\n"
     ]
    }
   ],
   "source": [
    "# Part 3: Lists\n",
    "# Exercise 7: List Operations\n",
    "\n",
    "# create an empty list to store numbers\n",
    "List_num = []\n",
    "\n",
    "# Ask user to enter 5 numbers for creating list\n",
    "print(\"Enter 5 number\")\n",
    "for i in range(5):\n",
    "    num = int(input(f\"Enter number {i + 1}: \"))\n",
    "    List_num.append(num)\n",
    "\n",
    "t_sum = sum(List_num)\n",
    "print(\"The total Sum of lists is : \",t_sum)\n",
    "\n",
    "largest = max(List_num) # largest number in the list\n",
    "smallest = min(List_num) # smallest number in the list\n",
    "\n",
    "print(\"Largest Number is :\",largest)\n",
    "print(\"Smallest Number is : \",smallest)"
   ]
  },
  {
   "cell_type": "code",
   "execution_count": null,
   "id": "fa095a3b-d739-46b6-91c6-7d0419658a06",
   "metadata": {},
   "outputs": [],
   "source": []
  }
 ],
 "metadata": {
  "kernelspec": {
   "display_name": "Python 3 (ipykernel)",
   "language": "python",
   "name": "python3"
  },
  "language_info": {
   "codemirror_mode": {
    "name": "ipython",
    "version": 3
   },
   "file_extension": ".py",
   "mimetype": "text/x-python",
   "name": "python",
   "nbconvert_exporter": "python",
   "pygments_lexer": "ipython3",
   "version": "3.12.4"
  }
 },
 "nbformat": 4,
 "nbformat_minor": 5
}
