{
 "cells": [
  {
   "cell_type": "code",
   "execution_count": 19,
   "id": "936b6335-2901-4123-84fd-bddd6e2512db",
   "metadata": {},
   "outputs": [
    {
     "name": "stdin",
     "output_type": "stream",
     "text": [
      "Enter a string :  Priyanka\n"
     ]
    },
    {
     "name": "stdout",
     "output_type": "stream",
     "text": [
      "Length of the string is :  8\n",
      "The First Character is :  P\n",
      "The last Character is :  a\n",
      "The Reverse String is :  aknayirP\n",
      "The String in Uppercase :  PRIYANKA\n",
      "The String in Uppercase :  priyanka\n"
     ]
    }
   ],
   "source": [
    "# Part 1: Operators\n",
    "# Exercise 1: Arithmetic Operators\n",
    "\n",
    "str = input(\"Enter a string : \")\n",
    "print(\"Length of the string is : \",len(str)) # measures the length of string\n",
    "print(\"The First Character is : \",str[0]) # \n",
    "print(\"The last Character is : \",str[-1])\n",
    "print(\"The Reverse String is : \",str[::-1])\n",
    "print(\"The String in Uppercase : \",str.upper())\n",
    "print(\"The String in Uppercase : \",str.lower())"
   ]
  },
  {
   "cell_type": "code",
   "execution_count": null,
   "id": "35608e92-46ba-4ee0-a3e0-e3a2df014ab1",
   "metadata": {},
   "outputs": [],
   "source": []
  }
 ],
 "metadata": {
  "kernelspec": {
   "display_name": "Python 3 (ipykernel)",
   "language": "python",
   "name": "python3"
  },
  "language_info": {
   "codemirror_mode": {
    "name": "ipython",
    "version": 3
   },
   "file_extension": ".py",
   "mimetype": "text/x-python",
   "name": "python",
   "nbconvert_exporter": "python",
   "pygments_lexer": "ipython3",
   "version": "3.12.4"
  }
 },
 "nbformat": 4,
 "nbformat_minor": 5
}
