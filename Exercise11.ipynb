{
 "cells": [
  {
   "cell_type": "code",
   "execution_count": 15,
   "id": "d603625c-6c2c-4c72-a32c-520e8d2891a1",
   "metadata": {},
   "outputs": [
    {
     "name": "stdin",
     "output_type": "stream",
     "text": [
      "Enter the name of  the student 1:  Priyanka\n",
      "Enter the score for subject 1:  78\n",
      "Enter the score for subject 2:  89\n",
      "Enter the score for subject 3:  99\n",
      "Enter the name of  the student 2:  Tanvi\n",
      "Enter the score for subject 1:  98\n",
      "Enter the score for subject 2:  88\n",
      "Enter the score for subject 3:  99\n",
      "Enter the name of  the student 3:  Saburi\n",
      "Enter the score for subject 1:  89\n",
      "Enter the score for subject 2:  78\n",
      "Enter the score for subject 3:  99\n"
     ]
    },
    {
     "name": "stdout",
     "output_type": "stream",
     "text": [
      "Student Average Score : \n",
      "Priyanka's average score: 88.67\n",
      "Tanvi's average score: 95.00\n",
      "Saburi's average score: 88.67\n"
     ]
    }
   ],
   "source": [
    "# Bonus Challenge\n",
    "# Exercise 11: Nested List\n",
    "\n",
    "students = []\n",
    "\n",
    "for i in range(3):\n",
    "    name = input(f\"Enter the name of  the student {i+1}: \")\n",
    "    scores = [int(input(f\"Enter the score for subject {j+1}: \")) for j in range(3)]\n",
    "    students.append([name, scores])\n",
    "\n",
    "print(\"Student Average Score : \")\n",
    "for student in students:\n",
    "    name = student[0]\n",
    "    scores = student[1]\n",
    "    average_score = sum(scores)/len(scores)\n",
    "    print(f\"{name}'s average score: {average_score:.2f}\")"
   ]
  },
  {
   "cell_type": "code",
   "execution_count": null,
   "id": "3a9b37b6-6899-49ed-acaf-8df3c6f20e86",
   "metadata": {},
   "outputs": [],
   "source": []
  }
 ],
 "metadata": {
  "kernelspec": {
   "display_name": "Python 3 (ipykernel)",
   "language": "python",
   "name": "python3"
  },
  "language_info": {
   "codemirror_mode": {
    "name": "ipython",
    "version": 3
   },
   "file_extension": ".py",
   "mimetype": "text/x-python",
   "name": "python",
   "nbconvert_exporter": "python",
   "pygments_lexer": "ipython3",
   "version": "3.12.4"
  }
 },
 "nbformat": 4,
 "nbformat_minor": 5
}
